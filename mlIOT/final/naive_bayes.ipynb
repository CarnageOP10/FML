{
 "cells": [
  {
   "cell_type": "code",
   "execution_count": 1,
   "metadata": {},
   "outputs": [],
   "source": [
    "import pandas as pd\n",
    "import numpy as np\n",
    "import matplotlib.pyplot as plt"
   ]
  },
  {
   "cell_type": "code",
   "execution_count": 2,
   "metadata": {},
   "outputs": [],
   "source": [
    "df_2 = pd.DataFrame({'Weather':['clear','clear','clear','clear','clear','rainy','rainy','rainy','rainy','rainy','snowy','snowy','snowy','snowy','snowy'],\n",
    "                     'Time of week':['workday','workday','workday','weekend','weekend','weekend','workday','workday','weekend','weekend','workday',\n",
    "                                     'workday','weekend','weekend','weekend'],\n",
    "                     'Time of day':['morning','lunch','evening','morning','evening','lunch','morning','lunch','morning','evening','morning','lunch',\n",
    "                                    'evening','lunch','morning'],\n",
    "                     'Traffic jam':['yes','no','yes','no','no','no','yes','yes','no','no','yes','yes','yes','no','yes']})"
   ]
  },
  {
   "cell_type": "code",
   "execution_count": null,
   "metadata": {},
   "outputs": [],
   "source": [
    "#NAIVE BAYES CLASSIFIER\n",
    "import pandas as pd\n",
    "import numpy as np\n",
    "\n",
    "# The dataset\n",
    "df_2 = pd.DataFrame({\n",
    "    'Weather': ['clear', 'clear', 'clear', 'clear', 'clear', 'rainy', 'rainy', 'rainy', 'rainy', 'rainy', 'snowy', 'snowy', 'snowy', 'snowy', 'snowy'],\n",
    "    'Time of week': ['workday', 'workday', 'workday', 'weekend', 'weekend', 'weekend', 'workday', 'workday', 'weekend', 'weekend', 'workday', 'workday', 'weekend', 'weekend', 'weekend'],\n",
    "    'Time of day': ['morning', 'lunch', 'evening', 'morning', 'evening', 'lunch', 'morning', 'lunch', 'morning', 'evening', 'morning', 'lunch', 'evening', 'lunch', 'morning'],\n",
    "    'Traffic jam': ['yes', 'no', 'yes', 'no', 'no', 'no', 'yes', 'yes', 'no', 'no', 'yes', 'yes', 'yes', 'no', 'yes']\n",
    "})\n",
    "\n",
    "# Defining the features and the target\n",
    "features = ['Weather', 'Time of week', 'Time of day']\n",
    "target = 'Traffic jam'\n",
    "\n",
    "# Get the unique classes from the target variable (Traffic jam)\n",
    "Classes_ = df_2[target].unique().tolist()\n",
    "\n",
    "# Function to calculate the conditional probability P(feature_value | class)\n",
    "def get_conditional_prob(feature, feature_value, class_):\n",
    "    class_subset = df_2[df_2[target] == class_]\n",
    "    feature_count = class_subset[feature].value_counts().get(feature_value, 0)\n",
    "    total_class_count = len(class_subset)\n",
    "    return (feature_count + 1) / (total_class_count + len(df_2[feature].unique()))  # Using Laplace smoothing\n",
    "\n",
    "# Function to calculate the prior probability P(class)\n",
    "def get_prior_prob(class_):\n",
    "    return len(df_2[df_2[target] == class_]) / len(df_2)\n",
    "\n",
    "# Dictionary for the new input values (e.g., test case)\n",
    "T_ = {'Weather': 'rainy', 'Time of week': 'weekend', 'Time of day': 'morning'}\n",
    "\n",
    "# Naive Bayes calculation\n",
    "S_ = []  # To store the log-likelihood for each class\n",
    "for class_ in Classes_:\n",
    "    L = np.log(get_prior_prob(class_))  # Start with the log of the prior probability\n",
    "    for feature in features:\n",
    "        conditional_prob = get_conditional_prob(feature, T_[feature], class_)\n",
    "        L += np.log(conditional_prob)  # Add log of conditional probability for each feature\n",
    "    S_.append(L)  # Store the log-likelihood for this class\n",
    "\n",
    "# Predict the class with the highest likelihood\n",
    "ind_1 = np.argmax(S_)\n",
    "predicted_class = Classes_[ind_1]\n",
    "\n",
    "print(\"Predicted class:\", predicted_class)\n"
   ]
  }
 ],
 "metadata": {
  "kernelspec": {
   "display_name": "Python 3",
   "language": "python",
   "name": "python3"
  },
  "language_info": {
   "codemirror_mode": {
    "name": "ipython",
    "version": 3
   },
   "file_extension": ".py",
   "mimetype": "text/x-python",
   "name": "python",
   "nbconvert_exporter": "python",
   "pygments_lexer": "ipython3",
   "version": "3.11.6"
  }
 },
 "nbformat": 4,
 "nbformat_minor": 2
}
