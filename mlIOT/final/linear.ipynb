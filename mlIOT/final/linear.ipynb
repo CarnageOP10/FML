{
 "cells": [
  {
   "cell_type": "code",
   "execution_count": 1,
   "metadata": {},
   "outputs": [],
   "source": [
    "import numpy as np\n",
    "import pandas as pd"
   ]
  },
  {
   "cell_type": "code",
   "execution_count": 2,
   "metadata": {},
   "outputs": [],
   "source": [
    "def linearRegressionBGD(features, target, n_iter, learning_rate):\n",
    "    B = np.zeros(features.shape[1] + 1)\n",
    "    cost = []\n",
    "\n",
    "    for i in range(0, n_iter):\n",
    "        y_pred = (np.dot(features, B[1:])) + B[0]\n",
    "        error = y_pred - target\n",
    "        del_b = np.dot(features.T, error)\n",
    "\n",
    "        B[1:] -= learning_rate*del_b/len(features)\n",
    "        B[0] -= learning_rate*error.sum()/len(features)\n",
    "\n",
    "        cost_i = (error**2)/(2*len(features))\n",
    "        cost.append(cost_i)\n",
    "\n",
    "    return B, cost"
   ]
  },
  {
   "cell_type": "code",
   "execution_count": 3,
   "metadata": {},
   "outputs": [],
   "source": [
    "def mini_batch_gradient_descent(features, target, n_iter=100, learning_rate=0.01, batch_size=10):\n",
    "    B = np.zeros(features.shape[1] + 1)\n",
    "    for epoch in range(n_iter):\n",
    "        indices = np.random.permutation(features.shape[0])\n",
    "        features_shuffled = features[indices]\n",
    "        target_shuffled = target[indices]\n",
    "\n",
    "        for i in range(0, features.shape[0], batch_size):\n",
    "            X_batch = features_shuffled[i:i + batch_size]\n",
    "            Y_batch = target_shuffled[i:i + batch_size]\n",
    "\n",
    "            out_ = np.dot(X_batch, B[1:]) + B[0]\n",
    "            error_ = out_ - Y_batch\n",
    "            del_B = np.dot(X_batch.T, error_)\n",
    "\n",
    "            B[1:] -= learning_rate * del_B / batch_size\n",
    "            B[0] -= learning_rate * error_.sum() / batch_size\n",
    "\n",
    "    return B"
   ]
  },
  {
   "cell_type": "code",
   "execution_count": 4,
   "metadata": {},
   "outputs": [],
   "source": [
    "def predict(features, B):\n",
    "    return np.dot(features, B[1:]) + B[0]"
   ]
  }
 ],
 "metadata": {
  "kernelspec": {
   "display_name": "Python 3",
   "language": "python",
   "name": "python3"
  },
  "language_info": {
   "codemirror_mode": {
    "name": "ipython",
    "version": 3
   },
   "file_extension": ".py",
   "mimetype": "text/x-python",
   "name": "python",
   "nbconvert_exporter": "python",
   "pygments_lexer": "ipython3",
   "version": "3.11.6"
  }
 },
 "nbformat": 4,
 "nbformat_minor": 2
}
